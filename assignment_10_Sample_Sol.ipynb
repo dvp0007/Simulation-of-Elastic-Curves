{
 "cells": [
  {
   "cell_type": "markdown",
   "metadata": {
    "nbgrader": {
     "grade": false,
     "grade_id": "cell-70f6e9de21ed8cfd",
     "locked": true,
     "schema_version": 3,
     "solution": false,
     "task": false
    }
   },
   "source": [
    "## Assignment 10 - Assembly of the System Vector and Boundary Conditions\n",
    "In this assignment we want to perform the first step in assembling the linear system arising from the Finite Element discretization of a partial differential equation. For this task we want to use the work we have done implementing <i>Grid, Basis</i> and <i>Quadrature</i>.<br>\n",
    "Consider the Convection-Diffusion-Problem \n",
    "\n",
    "$$ -\\nabla\\cdot(a \\nabla u)  + \\mathbf{b}\\nabla u + cu = f  \\text{ in }\\Omega$$\n",
    "\n",
    "with Dirichlet boundary conditions\n",
    "\n",
    "$$ u \\equiv g \\text{ on }\\delta\\Omega $$\n",
    "\n",
    "\n",
    "where $a,c,f\\colon\\Omega\\longrightarrow\\mathbb{R}$ and $\\mathbf{b}\\colon\\Omega\\longrightarrow\\mathbb{R}^2$\n",
    "\n",
    "For a given grid $\\tau_h$ with $N_{DOF}$ points and global basis functions $\\lbrace \\varphi_i \\rbrace_{i=1}^{N_{DOF}}$ we have seen that the discrete weak form of the problem is given by <br> <br>\n",
    "<center>Find $U_j\\in \\mathbb{R}$ for $j=1,\\dots,N_{DOF}$ such that $U_j=g(x_j)$ on the boundary and for inner DOFs\n",
    "$$ \\sum\\limits_{j=1}^{N_{DOF}} U_j \\underbrace{\\left( a\\int_\\Omega \\nabla \\varphi_j \\cdot \\nabla \\varphi_i\n",
    "+b\\int_\\Omega \\mathbf{v}\\cdot\\nabla\\varphi_j\\varphi_i \n",
    "+c\\int_\\Omega \\varphi_j\\varphi_i \\right) }_{=A_{ij}}\n",
    "= \\underbrace{\\int_\\Omega f \\varphi_i}_{l_i}$$\n",
    "holds for all $i=1,\\dots,N_{innerDOF}$.</center> <br>\n",
    "This problem is a linear system that can be solved for the coefficients $U_j$ representing the solution values at all degrees of freedom - a DOF vector. In this assignment we want to focus on the system vector $l$, i.e. the right-hand side of the linear system. We use the knowledge from previous assignments and recall the following notation:<ul> \n",
    "<li> $\\tau_h$ - the grid, i.e. the set of all cells</li>\n",
    "<li> $\\hat{T}$ - the reference cell </li>\n",
    "<li> $\\varphi_i$ - global basis function with index $i$ </li>\n",
    "<li> $\\phi_j^T,\\hat{\\phi}_j$ - local basis function with index $j$ on $T$ or $\\hat{T}$ resp. </li>\n",
    "<li> $\\mathcal{D}_T$ - DOF map of cell $T$ (assignment 9)</li>\n",
    "<li> $F_T,DF_T$ - the reference map of cell $T$ and its Jacobian(assignment 4)</li>\n",
    "<li> $\\lbrace(\\hat{w}_k,\\hat{x}_k)\\rbrace_{k=1}^{N_Q}$ - a quadrature rule on $\\hat{T}$</li>\n",
    "<li> $supp(\\varphi_i)$ - the support, i.e. all cells where $\\varphi_i$ is not the constant $0$</li> \n",
    "</ul>\n",
    "Then we remember the following derivation on how we can practically compute $l_i$:\n",
    "$$ l_i = \\int_\\Omega f(x) \\varphi_i(x) \\mathrm{d}x$$ \n",
    "Integrate and summing over the triangles in the support the global basis function $\\varphi_i$:\n",
    "$$ = \\sum\\limits_{T \\in supp(\\varphi_i)} \\int_T f(x) \\varphi_i(x) \\mathrm{d}x$$\n",
    "Use the correspinding local basis function:\n",
    "$$= \\sum\\limits_{T \\in supp(\\varphi_i)} \\int_T f(x) \\phi_{\\mathcal{D}_T(i)}^T(x) \\mathrm{d}x$$\n",
    "Transform the integral from the local triangle to reference element:\n",
    "$$=\\sum\\limits_{T \\in supp(\\varphi_i)} |\\det D F_T| \\int_{\\hat{T}} f (F_T(\\hat{x})) \\hat{\\phi}_{\\mathcal{D}_T(i)}(\\hat{x}) \\mathrm{d} \\hat{x}$$\n",
    "Apply a quadrature rule to discretise the integral:\n",
    "$$\\approx\\sum\\limits_{T \\in supp(\\phi_i)}|\\det D F_T| \\sum\\limits_{k=1}^{N_Q} \\hat{w}_k f (F_T(\\hat{x}_k)) \\hat{\\phi}_{\\mathcal{D}_T(i)}(\\hat{x}_k)$$\n",
    "For each global index $i$ this is a sum over a few grid cells - usually the ones surrounding point $i$ - and a small number of quadrature points. Values of the right-hand side source $f$ at transformed quadrature points are multiplied with evaluations of the reference basis function $\\hat{\\phi}_{\\mathcal{D}_T(i)}$ and scaled with both the quadrature weight $\\hat{w}_k$ and the area scaling factor $|\\det D F_T|$."
   ]
  },
  {
   "cell_type": "markdown",
   "metadata": {
    "nbgrader": {
     "grade": false,
     "grade_id": "cell-f6834c15289ad6ba",
     "locked": true,
     "schema_version": 3,
     "solution": false,
     "task": false
    }
   },
   "source": [
    "### 10.1 Preparation\n",
    "\n",
    "Download the python file <i>classes.py</i> and <b>place them in the same folder where this notebook is being executed</b>. Make yourself familiar with the classes and their methods. You know all of them from the previous assignments, but new functionality was added. The <b>TriGrid</b>, <b>Basis</b> and <b>Quadrature</b> are imported from the python file. Prepare the assembling by:\n",
    "<ul> \n",
    "    <li> discretise the domain $[0,1]^2$ by a triangular grid called <b>grid</b> with $N_x,N_y = 4$.</li>\n",
    "    <li> generate a linear basis object called <b>basis</b> </li>\n",
    "    <li> generate a quadrature object of exactness $2$ called <b>quadrature</b> </li>\n",
    "    <li> define a right side source $f(x,y) = x + y$ by a lambda function </li>\n",
    "    <li> define boundary values $g(x,y) = x$ by a lambda function </li>    \n",
    "</ul>"
   ]
  },
  {
   "cell_type": "code",
   "execution_count": 37,
   "metadata": {
    "nbgrader": {
     "grade": false,
     "grade_id": "cell-e1b9ae66ca598e4b",
     "locked": false,
     "schema_version": 3,
     "solution": true,
     "task": false
    }
   },
   "outputs": [],
   "source": [
    "import numpy as np\n",
    "from classes import TriGrid,Basis,Quadrature\n",
    "\n",
    "### BEGIN SOLUTION\n",
    "grid = TriGrid(0,1,0,1,4,4)\n",
    "quadrature = Quadrature(2)\n",
    "basis = Basis()\n",
    "f = lambda x,y: x+y\n",
    "g = lambda x,y: np.zeros_like(x)\n",
    "### END SOLUTION"
   ]
  },
  {
   "cell_type": "code",
   "execution_count": 38,
   "metadata": {
    "nbgrader": {
     "grade": true,
     "grade_id": "cell-310c1db4c2860e1b",
     "locked": true,
     "points": 1,
     "schema_version": 3,
     "solution": false,
     "task": false
    }
   },
   "outputs": [],
   "source": [
    "### BEGIN HIDDEN TESTS\n",
    "assert np.all(grid.points == TriGrid(0,1,0,1,4,4).points)\n",
    "assert np.all(grid.cells == TriGrid(0,1,0,1,4,4).cells)\n",
    "### END HIDDEN TESTS"
   ]
  },
  {
   "cell_type": "code",
   "execution_count": 39,
   "metadata": {
    "nbgrader": {
     "grade": true,
     "grade_id": "cell-0818aedc4a64cdf8",
     "locked": true,
     "points": 1,
     "schema_version": 3,
     "solution": false,
     "task": false
    }
   },
   "outputs": [],
   "source": [
    "### BEGIN HIDDEN TESTS\n",
    "assert np.all(abs(quadrature.points - Quadrature(2).points)<1e-5)\n",
    "assert np.all(abs(quadrature.weights - Quadrature(2).weights)<1e-5)\n",
    "### END HIDDEN TESTS"
   ]
  },
  {
   "cell_type": "code",
   "execution_count": 40,
   "metadata": {
    "nbgrader": {
     "grade": true,
     "grade_id": "cell-1a9cfd65f9c88e95",
     "locked": true,
     "points": 1,
     "schema_version": 3,
     "solution": false,
     "task": false
    }
   },
   "outputs": [],
   "source": [
    "### BEGIN HIDDEN TESTS\n",
    "grid = TriGrid(0,1,0,1,4,4)\n",
    "assert np.all(abs(f(grid.points[:,0],grid.points[:,1]) - (grid.points[:,0]+grid.points[:,1]))<1e-5) \n",
    "assert np.all(abs(g(grid.points[:,0],grid.points[:,1]))<1e-5 )\n",
    "### END HIDDEN TESTS"
   ]
  },
  {
   "cell_type": "markdown",
   "metadata": {
    "nbgrader": {
     "grade": false,
     "grade_id": "cell-b6928aa4282921a1",
     "locked": true,
     "schema_version": 3,
     "solution": false,
     "task": false
    }
   },
   "source": [
    "### 10.2 StationaryProblem Class\n",
    "The StationaryProblem object represents a Convetion-Diffusion Problem as given above and it will handles the discretization by finite elements. In this taks we will assemble the system vector and boundary conditions. \n",
    "\n",
    "<b>10.2.1 The Constructor</b><br>\n",
    "In the code block below the class constructor is given. Understand the code. \n",
    "\n",
    "<b>10.2.2 The Boundary Conditions</b><br>\n",
    "Write the function <b>assembleBoundaryCondtions</b> with the following input arguments:\n",
    "\n",
    "<b>INPUT:</b> $dirichletValues$ - lambda function \n",
    "\n",
    "For the boundary DOFs this function should fill the Dirichlet Values in the system vector and it should fill the coresponding elements in the diagonal of the system matrix with ones. \n",
    "\n",
    "<b>10.2.3 The system vector</b><br>\n",
    "Write a function <b>addSource</b> which adds the values of the right hand site function $f$ to the system vector. \n",
    "\n",
    "<b>INPUT:</b> $f$ - lambda function\n",
    "\n",
    "<b>Outlook</b><br> \n",
    "In the next assignemnt we will assmble the full system matrix and solve the linear system. "
   ]
  },
  {
   "cell_type": "code",
   "execution_count": 41,
   "metadata": {
    "nbgrader": {
     "grade": false,
     "grade_id": "cell-5e96714696f016fe",
     "locked": false,
     "schema_version": 3,
     "solution": true,
     "task": false
    }
   },
   "outputs": [],
   "source": [
    "class StationaryProblem():\n",
    "  def __init__(self, grid, basis, quadrature, dirichletLocations = (lambda x,y: True), dirichletValues = (lambda x,y: 0.0)):\n",
    "    self.grid = grid\n",
    "    self.basis = basis\n",
    "    self.quadrature = quadrature\n",
    "\n",
    "    # Initialize \n",
    "    self.systemMatrix = np.zeros((np.shape(self.grid.points)[0],np.shape(self.grid.points)[0]))\n",
    "    self.systemVector = np.zeros(np.shape(self.grid.points)[0])\n",
    "    self.solution = None\n",
    "\n",
    "    # Boundary Conditions\n",
    "    self.dirichletDOFs = self.grid.getBoundaryIndices(dirichletLocations)\n",
    "    self.allDOFs = np.arange(np.shape(self.grid.points)[0])\n",
    "    self.freeDOFs = np.setdiff1d(np.arange(np.shape(self.grid.points)[0]),self.dirichletDOFs)    \n",
    "    self.assembleBoundaryConditions(dirichletValues)\n",
    "\n",
    "    # Precompute data that is needed all the time.\n",
    "    # x_k and w_k\n",
    "    self.xkHat,self.wkHat = self.quadrature.getPointsAndWeights()\n",
    "    # F_T(x_k)\n",
    "    self.xkTrafo = self.grid.evalReferenceMap(self.xkHat)\n",
    "    # DF_T -> det and inverse\n",
    "    self.dets = np.abs(self.grid.getDeterminants())\n",
    "    self.invJac = self.grid.getInverseJacobians()\n",
    "    # phi(x_k) and grad_phi(x_k)  \n",
    "    self.phi = self.basis.evalPhi(self.xkHat)\n",
    "    self.gradPhi = self.basis.evalGradPhi(self.xkHat)\n",
    "        \n",
    "  ### BEGIN SOLUTION\n",
    "  def assembleBoundaryConditions(self, dirichletValues):\n",
    "    self.systemMatrix[self.dirichletDOFs,self.dirichletDOFs] = 1.0\n",
    "    self.systemVector[self.dirichletDOFs] = dirichletValues(self.grid.points[self.dirichletDOFs,0],self.grid.points[self.dirichletDOFs,1])\n",
    "        \n",
    "  def addSource(self, f):\n",
    "    for i in self.freeDOFs:  \n",
    "      supp,localInd = self.grid.evalDOFMap(i)\n",
    "      for T,loc_i in zip(supp,localInd):\n",
    "        self.systemVector[i] += self.dets[T] * np.sum(self.phi[:,loc_i] * self.wkHat * f(self.xkTrafo[T,:,0],self.xkTrafo[T,:,1]))\n",
    "                                             \n",
    "  ### END SOLUTION"
   ]
  },
  {
   "cell_type": "code",
   "execution_count": 42,
   "metadata": {
    "nbgrader": {
     "grade": false,
     "grade_id": "cell-d94aefabbf11b364",
     "locked": true,
     "schema_version": 3,
     "solution": false,
     "task": false
    }
   },
   "outputs": [
    {
     "output_type": "stream",
     "name": "stdout",
     "text": [
      "[0.         0.         0.         0.         0.         0.07407407\n 0.11111111 0.         0.         0.11111111 0.14814815 0.\n 0.         0.         0.         0.        ]\n"
     ]
    }
   ],
   "source": [
    "pde = StationaryProblem(grid,basis,quadrature,lambda x,y:True,g)\n",
    "pde.addSource(f)\n",
    "print(pde.systemVector)"
   ]
  },
  {
   "cell_type": "code",
   "execution_count": 43,
   "metadata": {
    "nbgrader": {
     "grade": true,
     "grade_id": "cell-dd47313f0209e239",
     "locked": true,
     "points": 2,
     "schema_version": 3,
     "solution": false,
     "task": false
    }
   },
   "outputs": [],
   "source": [
    "### BEGIN HIDDEN TESTS\n",
    "g = TriGrid(0,1,0,1,4,4)\n",
    "q = Quadrature(2)\n",
    "b = Basis()\n",
    "f = lambda x,y: x+y\n",
    "g = lambda x,y: x\n",
    "pde = StationaryProblem(grid,basis,quadrature,lambda x,y:True,g)\n",
    "assert np.max(abs(pde.systemVector[pde.dirichletDOFs] - grid.points[pde.dirichletDOFs,0]))<1e-5\n",
    "### END HIDDEN TESTS"
   ]
  },
  {
   "cell_type": "code",
   "execution_count": 44,
   "metadata": {
    "nbgrader": {
     "grade": true,
     "grade_id": "cell-38c7775f6cb679de",
     "locked": true,
     "points": 2,
     "schema_version": 3,
     "solution": false,
     "task": false
    }
   },
   "outputs": [],
   "source": [
    "### BEGIN HIDDEN TESTS\n",
    "g = TriGrid(0,1,0,1,4,4)\n",
    "q = Quadrature(2)\n",
    "b = Basis()\n",
    "f = lambda x,y: x+y\n",
    "g = lambda x,y: x\n",
    "pde = StationaryProblem(grid,basis,quadrature,lambda x,y:True,g)\n",
    "pde.addSource(f)\n",
    "assert np.max(abs(pde.systemVector[pde.freeDOFs] - np.array([0.07407407 ,  0.11111111 , 0.11111111, 0.14814815  ]))) < 1e-5\n",
    "### END HIDDEN TESTS"
   ]
  },
  {
   "cell_type": "code",
   "execution_count": 45,
   "metadata": {
    "nbgrader": {
     "grade": true,
     "grade_id": "cell-f79875e051ef5160",
     "locked": true,
     "points": 2,
     "schema_version": 3,
     "solution": false,
     "task": false
    }
   },
   "outputs": [],
   "source": [
    "### BEGIN HIDDEN TESTS\n",
    "g = TriGrid(0,1,0,1,4,4)\n",
    "q = Quadrature(2)\n",
    "b = Basis()\n",
    "f = lambda x,y: x+y\n",
    "g = lambda x,y: x\n",
    "pde = StationaryProblem(grid,basis,quadrature,lambda x,y:True,g)\n",
    "pde.addSource(f)\n",
    "assert abs(np.sum(pde.systemMatrix) - 12) < 1e-5\n",
    "assert np.max(abs(pde.systemMatrix[pde.dirichletDOFs,pde.dirichletDOFs] - 1 )) < 1e-5\n",
    "### END HIDDEN TESTS"
   ]
  },
  {
   "cell_type": "code",
   "execution_count": null,
   "metadata": {},
   "outputs": [],
   "source": []
  },
  {
   "cell_type": "code",
   "execution_count": null,
   "metadata": {},
   "outputs": [],
   "source": []
  }
 ],
 "metadata": {
  "celltoolbar": "Create Assignment",
  "kernelspec": {
   "display_name": "Python 3",
   "language": "python",
   "name": "python3"
  },
  "language_info": {
   "codemirror_mode": {
    "name": "ipython",
    "version": 3
   },
   "file_extension": ".py",
   "mimetype": "text/x-python",
   "name": "python",
   "nbconvert_exporter": "python",
   "pygments_lexer": "ipython3",
   "version": "3.8.3-final"
  }
 },
 "nbformat": 4,
 "nbformat_minor": 2
}